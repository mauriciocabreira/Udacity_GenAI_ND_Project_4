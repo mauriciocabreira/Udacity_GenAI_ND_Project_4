{
 "cells": [
  {
   "cell_type": "markdown",
   "id": "fd4c13af",
   "metadata": {},
   "source": [
    "# Step 1: Setting Up the Python Application\n",
    "\n",
    "- Initialize a Python Project: Create a new Python project, setting up a virtual environment and installing necessary packages like LangChain, a suitable LLM library (e.g., OpenAI's GPT), and a vector database package compatible with Python (I will use ChromaDB or LanceDB). "
   ]
  },
  {
   "cell_type": "code",
   "execution_count": 1,
   "id": "2f47b47b",
   "metadata": {},
   "outputs": [
    {
     "name": "stdout",
     "output_type": "stream",
     "text": [
      "Defaulting to user installation because normal site-packages is not writeable\n",
      "Requirement already satisfied: pandas in /home/student/.local/lib/python3.10/site-packages (2.2.2)\n",
      "Requirement already satisfied: pytz>=2020.1 in /opt/conda/lib/python3.10/site-packages (from pandas) (2022.7)\n",
      "Requirement already satisfied: numpy>=1.22.4 in /opt/conda/lib/python3.10/site-packages (from pandas) (1.24.3)\n",
      "Requirement already satisfied: tzdata>=2022.7 in /home/student/.local/lib/python3.10/site-packages (from pandas) (2024.1)\n",
      "Requirement already satisfied: python-dateutil>=2.8.2 in /opt/conda/lib/python3.10/site-packages (from pandas) (2.9.0.post0)\n",
      "Requirement already satisfied: six>=1.5 in /opt/conda/lib/python3.10/site-packages (from python-dateutil>=2.8.2->pandas) (1.16.0)\n"
     ]
    }
   ],
   "source": [
    "!pip install pandas"
   ]
  },
  {
   "cell_type": "code",
   "execution_count": 2,
   "id": "1415dd9a",
   "metadata": {},
   "outputs": [],
   "source": [
    "import shutil\n",
    "import pandas as pd\n",
    "\n",
    "\n",
    "from langchain.chat_models import ChatOpenAI # this is the new import statement\n",
    "from langchain.prompts import PromptTemplate\n",
    "from langchain.output_parsers import PydanticOutputParser\n",
    "from pydantic import BaseModel, Field, NonNegativeInt\n",
    "from typing import List\n",
    "from random import sample \n",
    "from langchain.document_loaders.csv_loader import CSVLoader\n",
    "\n",
    "\n",
    "\n",
    "from langchain.llms import OpenAI\n",
    "from langchain.prompts import PromptTemplate\n",
    "from langchain.prompts.few_shot import FewShotPromptTemplate\n",
    "from fastapi.encoders import jsonable_encoder\n"
   ]
  },
  {
   "cell_type": "code",
   "execution_count": 3,
   "id": "4f3a62ae",
   "metadata": {},
   "outputs": [],
   "source": [
    "from langchain.embeddings import OpenAIEmbeddings\n",
    "from langchain.vectorstores.chroma import Chroma\n",
    "from langchain.schema import Document\n",
    "from langchain.text_splitter import RecursiveCharacterTextSplitter\n",
    "from langchain.prompts import ChatPromptTemplate\n",
    "from langchain.llms import OpenAI\n",
    "\n",
    "\n"
   ]
  },
  {
   "cell_type": "code",
   "execution_count": 4,
   "id": "6554fd4c",
   "metadata": {},
   "outputs": [],
   "source": [
    "import os\n",
    "\n",
    "OPENAI_API_KEY = 'voc-477078812126677339221666a2a250d1a8a2.96550613'\n",
    "os.environ['OPENAI_API_KEY']= OPENAI_API_KEY\n",
    "os.environ[\"OPENAI_API_BASE\"] = \"https://openai.vocareum.com/v1\"\n",
    "\n"
   ]
  },
  {
   "cell_type": "code",
   "execution_count": 5,
   "id": "55d4de57",
   "metadata": {},
   "outputs": [],
   "source": [
    "MODEL_NAME = 'gpt-3.5-turbo'"
   ]
  },
  {
   "cell_type": "code",
   "execution_count": null,
   "id": "5ebdba44",
   "metadata": {},
   "outputs": [],
   "source": []
  },
  {
   "cell_type": "markdown",
   "id": "79a25646",
   "metadata": {},
   "source": [
    "### Load LLM"
   ]
  },
  {
   "cell_type": "code",
   "execution_count": 6,
   "id": "72f09ae7",
   "metadata": {},
   "outputs": [
    {
     "name": "stderr",
     "output_type": "stream",
     "text": [
      "/opt/conda/lib/python3.10/site-packages/langchain/llms/openai.py:202: UserWarning: You are trying to use a chat model. This way of initializing it is no longer supported. Instead, please use: `from langchain.chat_models import ChatOpenAI`\n",
      "  warnings.warn(\n",
      "/opt/conda/lib/python3.10/site-packages/langchain/llms/openai.py:790: UserWarning: You are trying to use a chat model. This way of initializing it is no longer supported. Instead, please use: `from langchain.chat_models import ChatOpenAI`\n",
      "  warnings.warn(\n"
     ]
    }
   ],
   "source": [
    "llm = OpenAI(model_name=MODEL_NAME, temperature=0, api_key=OPENAI_API_KEY)\n"
   ]
  },
  {
   "cell_type": "markdown",
   "id": "bc81e3b0",
   "metadata": {},
   "source": [
    "# Step 2: Generating Real Estate Listings\n",
    "\n",
    "Generate real estate listings using a Large Language Model. Generate at least 10 listings This can involve creating prompts for the LLM to produce descriptions of various properties. An example of a listing might be:\n",
    "\n",
    "\n",
    "\n",
    "```python\n",
    "\n",
    "Neighborhood: Green Oaks\n",
    "Price: 800,000\n",
    "Bedrooms: 3\n",
    "Bathrooms: 2\n",
    "House Size: 2,000 sqft\n",
    "\n",
    "Description: Welcome to this eco-friendly oasis nestled in the heart of Green Oaks. This charming 3-bedroom, 2-bathroom home boasts energy-efficient features such as solar panels and a well-insulated structure. Natural light floods the living spaces, highlighting the beautiful hardwood floors and eco-conscious finishes. The open-concept kitchen and dining area lead to a spacious backyard with a vegetable garden, perfect for the eco-conscious family. Embrace sustainable living without compromising on style in this Green Oaks gem.\n",
    "\n",
    "Neighborhood Description: Green Oaks is a close-knit, environmentally-conscious community with access to organic grocery stores, community gardens, and bike paths. Take a stroll through the nearby Green Oaks Park or grab a cup of coffee at the cozy Green Bean Cafe. With easy access to public transportation and bike lanes, commuting is a breeze.\n",
    "\n",
    "```\n",
    "\n",
    "\n",
    "\n",
    "\n",
    "\n",
    "You'll use these listings to populate the database for testing and development of \"HomeMatch\"."
   ]
  },
  {
   "cell_type": "code",
   "execution_count": 7,
   "id": "6cc7579d",
   "metadata": {},
   "outputs": [],
   "source": [
    "instruction = \"Generate a CSV file with at least 10 real estate listings.\"\n",
    "sample_listing= \\\n",
    "\"\"\"\n",
    "Neighborhood: Green Oaks\n",
    "Price: $800,000\n",
    "Bedrooms: 3\n",
    "Bathrooms: 2\n",
    "House Size: 2,000 sqft\n",
    "\n",
    "Description: Welcome to this eco-friendly oasis nestled in the heart of Green Oaks. This charming 3-bedroom, 2-bathroom home boasts energy-efficient features such as solar panels and a well-insulated structure. Natural light floods the living spaces, highlighting the beautiful hardwood floors and eco-conscious finishes. The open-concept kitchen and dining area lead to a spacious backyard with a vegetable garden, perfect for the eco-conscious family. Embrace sustainable living without compromising on style in this Green Oaks gem.\n",
    "\n",
    "Neighborhood Description: Green Oaks is a close-knit, environmentally-conscious community with access to organic grocery stores, community gardens, and bike paths. Take a stroll through the nearby Green Oaks Park or grab a cup of coffee at the cozy Green Bean Cafe. With easy access to public transportation and bike lanes, commuting is a breeze.\n",
    "\"\"\""
   ]
  },
  {
   "cell_type": "code",
   "execution_count": 8,
   "id": "2ad4aa8f",
   "metadata": {},
   "outputs": [],
   "source": [
    "class RealEstateListing(BaseModel):\n",
    "    \"\"\"\n",
    "    A real estate listing.\n",
    "    \n",
    "    Attributes:\n",
    "    - neighborhood: str\n",
    "    - price: NonNegativeInt\n",
    "    - bedrooms: NonNegativeInt\n",
    "    - bathrooms: NonNegativeInt\n",
    "    - house_size: NonNegativeInt\n",
    "    - description: str\n",
    "    - neighborhood_description: str\n",
    "    \"\"\"\n",
    "    neighborhood: str = Field(description=\"The neighborhood where the property is located\")\n",
    "    price: NonNegativeInt = Field(description=\"The price of the property in USD\")\n",
    "    bedrooms: NonNegativeInt = Field(description=\"The number of bedrooms in the property\")\n",
    "    bathrooms: NonNegativeInt = Field(description=\"The number of bathrooms in the property\")\n",
    "    house_size: NonNegativeInt = Field(description=\"The size of the house in square feet\")\n",
    "    description: str = Field(description=\"A description of the property\")\n",
    "    neighborhood_description: str = Field(description=\"A description of the neighborhood.\")  \n",
    "\n",
    "class ListingCollection(BaseModel):\n",
    "    \"\"\"\n",
    "    A collection of real estate listings.\n",
    "    \n",
    "    Attributes:\n",
    "    - listings: List[RealEstateListing]\n",
    "    \"\"\"\n",
    "    listings: List[RealEstateListing] = Field(description=\"A list of real estate listings\")"
   ]
  },
  {
   "cell_type": "code",
   "execution_count": 9,
   "id": "77a37395",
   "metadata": {},
   "outputs": [],
   "source": [
    "# generate output\n",
    "parser = PydanticOutputParser(pydantic_object=ListingCollection)"
   ]
  },
  {
   "cell_type": "code",
   "execution_count": 10,
   "id": "fd32e65b",
   "metadata": {},
   "outputs": [
    {
     "name": "stdout",
     "output_type": "stream",
     "text": [
      "Generate a CSV file with at least 10 real estate listings.\n",
      "\n",
      "Neighborhood: Green Oaks\n",
      "Price: $800,000\n",
      "Bedrooms: 3\n",
      "Bathrooms: 2\n",
      "House Size: 2,000 sqft\n",
      "\n",
      "Description: Welcome to this eco-friendly oasis nestled in the heart of Green Oaks. This charming 3-bedroom, 2-bathroom home boasts energy-efficient features such as solar panels and a well-insulated structure. Natural light floods the living spaces, highlighting the beautiful hardwood floors and eco-conscious finishes. The open-concept kitchen and dining area lead to a spacious backyard with a vegetable garden, perfect for the eco-conscious family. Embrace sustainable living without compromising on style in this Green Oaks gem.\n",
      "\n",
      "Neighborhood Description: Green Oaks is a close-knit, environmentally-conscious community with access to organic grocery stores, community gardens, and bike paths. Take a stroll through the nearby Green Oaks Park or grab a cup of coffee at the cozy Green Bean Cafe. With easy access to public transportation and bike lanes, commuting is a breeze.\n",
      "\n",
      "The output should be formatted as a JSON instance that conforms to the JSON schema below.\n",
      "\n",
      "As an example, for the schema {\"properties\": {\"foo\": {\"title\": \"Foo\", \"description\": \"a list of strings\", \"type\": \"array\", \"items\": {\"type\": \"string\"}}}, \"required\": [\"foo\"]}\n",
      "the object {\"foo\": [\"bar\", \"baz\"]} is a well-formatted instance of the schema. The object {\"properties\": {\"foo\": [\"bar\", \"baz\"]}} is not well-formatted.\n",
      "\n",
      "Here is the output schema:\n",
      "```\n",
      "{\"description\": \"A collection of real estate listings.\\n\\nAttributes:\\n- listings: List[RealEstateListing]\", \"properties\": {\"listings\": {\"title\": \"Listings\", \"description\": \"A list of real estate listings\", \"type\": \"array\", \"items\": {\"$ref\": \"#/definitions/RealEstateListing\"}}}, \"required\": [\"listings\"], \"definitions\": {\"RealEstateListing\": {\"title\": \"RealEstateListing\", \"description\": \"A real estate listing.\\n\\nAttributes:\\n- neighborhood: str\\n- price: NonNegativeInt\\n- bedrooms: NonNegativeInt\\n- bathrooms: NonNegativeInt\\n- house_size: NonNegativeInt\\n- description: str\\n- neighborhood_description: str\", \"type\": \"object\", \"properties\": {\"neighborhood\": {\"title\": \"Neighborhood\", \"description\": \"The neighborhood where the property is located\", \"type\": \"string\"}, \"price\": {\"title\": \"Price\", \"description\": \"The price of the property in USD\", \"minimum\": 0, \"type\": \"integer\"}, \"bedrooms\": {\"title\": \"Bedrooms\", \"description\": \"The number of bedrooms in the property\", \"minimum\": 0, \"type\": \"integer\"}, \"bathrooms\": {\"title\": \"Bathrooms\", \"description\": \"The number of bathrooms in the property\", \"minimum\": 0, \"type\": \"integer\"}, \"house_size\": {\"title\": \"House Size\", \"description\": \"The size of the house in square feet\", \"minimum\": 0, \"type\": \"integer\"}, \"description\": {\"title\": \"Description\", \"description\": \"A description of the property\", \"type\": \"string\"}, \"neighborhood_description\": {\"title\": \"Neighborhood Description\", \"description\": \"A description of the neighborhood.\", \"type\": \"string\"}}, \"required\": [\"neighborhood\", \"price\", \"bedrooms\", \"bathrooms\", \"house_size\", \"description\", \"neighborhood_description\"]}}}\n",
      "```\n",
      "\n"
     ]
    }
   ],
   "source": [
    "# printing the prompt\n",
    "prompt = PromptTemplate(\n",
    "    template=\"{instruction}\\n{sample}\\n{format_instructions}\\n\",\n",
    "    input_variables=[\"instruction\", \"sample\"],\n",
    "    partial_variables={\"format_instructions\": parser.get_format_instructions},\n",
    ")\n",
    "\n",
    "query = prompt.format(\n",
    "    instruction=instruction,\n",
    "    sample=sample_listing,\n",
    ")\n",
    "print(query)"
   ]
  },
  {
   "cell_type": "code",
   "execution_count": 11,
   "id": "8a5f41eb",
   "metadata": {},
   "outputs": [],
   "source": [
    "response = llm(query)"
   ]
  },
  {
   "cell_type": "code",
   "execution_count": 12,
   "id": "db9d118b",
   "metadata": {},
   "outputs": [
    {
     "data": {
      "text/html": [
       "<div>\n",
       "<style scoped>\n",
       "    .dataframe tbody tr th:only-of-type {\n",
       "        vertical-align: middle;\n",
       "    }\n",
       "\n",
       "    .dataframe tbody tr th {\n",
       "        vertical-align: top;\n",
       "    }\n",
       "\n",
       "    .dataframe thead th {\n",
       "        text-align: right;\n",
       "    }\n",
       "</style>\n",
       "<table border=\"1\" class=\"dataframe\">\n",
       "  <thead>\n",
       "    <tr style=\"text-align: right;\">\n",
       "      <th></th>\n",
       "      <th>neighborhood</th>\n",
       "      <th>price</th>\n",
       "      <th>bedrooms</th>\n",
       "      <th>bathrooms</th>\n",
       "      <th>house_size</th>\n",
       "      <th>description</th>\n",
       "      <th>neighborhood_description</th>\n",
       "    </tr>\n",
       "  </thead>\n",
       "  <tbody>\n",
       "    <tr>\n",
       "      <th>0</th>\n",
       "      <td>Green Oaks</td>\n",
       "      <td>800000</td>\n",
       "      <td>3</td>\n",
       "      <td>2</td>\n",
       "      <td>2000</td>\n",
       "      <td>Welcome to this eco-friendly oasis nestled in ...</td>\n",
       "      <td>Green Oaks is a close-knit, environmentally-co...</td>\n",
       "    </tr>\n",
       "    <tr>\n",
       "      <th>1</th>\n",
       "      <td>Sunnyvale</td>\n",
       "      <td>950000</td>\n",
       "      <td>4</td>\n",
       "      <td>3</td>\n",
       "      <td>2500</td>\n",
       "      <td>Located in the desirable neighborhood of Sunny...</td>\n",
       "      <td>Sunnyvale is known for its top-rated schools, ...</td>\n",
       "    </tr>\n",
       "    <tr>\n",
       "      <th>2</th>\n",
       "      <td>Downtown Loft District</td>\n",
       "      <td>1200000</td>\n",
       "      <td>2</td>\n",
       "      <td>2</td>\n",
       "      <td>1800</td>\n",
       "      <td>Welcome to urban living at its finest in the D...</td>\n",
       "      <td>The Downtown Loft District is a vibrant and ec...</td>\n",
       "    </tr>\n",
       "    <tr>\n",
       "      <th>3</th>\n",
       "      <td>Lakefront Estates</td>\n",
       "      <td>1500000</td>\n",
       "      <td>5</td>\n",
       "      <td>4</td>\n",
       "      <td>4000</td>\n",
       "      <td>Live the lakefront lifestyle in this stunning ...</td>\n",
       "      <td>Lakefront Estates is an exclusive waterfront c...</td>\n",
       "    </tr>\n",
       "    <tr>\n",
       "      <th>4</th>\n",
       "      <td>Mountain View</td>\n",
       "      <td>1100000</td>\n",
       "      <td>3</td>\n",
       "      <td>2</td>\n",
       "      <td>2200</td>\n",
       "      <td>Nestled in the scenic hills of Mountain View, ...</td>\n",
       "      <td>Mountain View is known for its picturesque lan...</td>\n",
       "    </tr>\n",
       "    <tr>\n",
       "      <th>5</th>\n",
       "      <td>Historic Old Town</td>\n",
       "      <td>750000</td>\n",
       "      <td>2</td>\n",
       "      <td>1</td>\n",
       "      <td>1500</td>\n",
       "      <td>Step back in time with this charming 2-bedroom...</td>\n",
       "      <td>Historic Old Town is a vibrant and historic ne...</td>\n",
       "    </tr>\n",
       "    <tr>\n",
       "      <th>6</th>\n",
       "      <td>Waterfront Condos</td>\n",
       "      <td>1000000</td>\n",
       "      <td>2</td>\n",
       "      <td>2</td>\n",
       "      <td>1800</td>\n",
       "      <td>Live the waterfront lifestyle in these luxurio...</td>\n",
       "      <td>Waterfront Condos offer a luxurious waterfront...</td>\n",
       "    </tr>\n",
       "    <tr>\n",
       "      <th>7</th>\n",
       "      <td>Suburban Meadows</td>\n",
       "      <td>850000</td>\n",
       "      <td>4</td>\n",
       "      <td>3</td>\n",
       "      <td>2300</td>\n",
       "      <td>Escape to the tranquility of Suburban Meadows ...</td>\n",
       "      <td>Suburban Meadows is a family-friendly neighbor...</td>\n",
       "    </tr>\n",
       "    <tr>\n",
       "      <th>8</th>\n",
       "      <td>Downtown Highrise</td>\n",
       "      <td>1300000</td>\n",
       "      <td>3</td>\n",
       "      <td>2</td>\n",
       "      <td>2000</td>\n",
       "      <td>Experience luxury living in the heart of the c...</td>\n",
       "      <td>Downtown Highrise offers a vibrant urban livin...</td>\n",
       "    </tr>\n",
       "    <tr>\n",
       "      <th>9</th>\n",
       "      <td>Gated Community</td>\n",
       "      <td>1800000</td>\n",
       "      <td>5</td>\n",
       "      <td>4</td>\n",
       "      <td>3500</td>\n",
       "      <td>Live in luxury in this exclusive 5-bedroom, 4-...</td>\n",
       "      <td>The Gated Community offers a secure and privat...</td>\n",
       "    </tr>\n",
       "  </tbody>\n",
       "</table>\n",
       "</div>"
      ],
      "text/plain": [
       "             neighborhood    price  bedrooms  bathrooms  house_size  \\\n",
       "0              Green Oaks   800000         3          2        2000   \n",
       "1               Sunnyvale   950000         4          3        2500   \n",
       "2  Downtown Loft District  1200000         2          2        1800   \n",
       "3       Lakefront Estates  1500000         5          4        4000   \n",
       "4           Mountain View  1100000         3          2        2200   \n",
       "5       Historic Old Town   750000         2          1        1500   \n",
       "6       Waterfront Condos  1000000         2          2        1800   \n",
       "7        Suburban Meadows   850000         4          3        2300   \n",
       "8       Downtown Highrise  1300000         3          2        2000   \n",
       "9         Gated Community  1800000         5          4        3500   \n",
       "\n",
       "                                         description  \\\n",
       "0  Welcome to this eco-friendly oasis nestled in ...   \n",
       "1  Located in the desirable neighborhood of Sunny...   \n",
       "2  Welcome to urban living at its finest in the D...   \n",
       "3  Live the lakefront lifestyle in this stunning ...   \n",
       "4  Nestled in the scenic hills of Mountain View, ...   \n",
       "5  Step back in time with this charming 2-bedroom...   \n",
       "6  Live the waterfront lifestyle in these luxurio...   \n",
       "7  Escape to the tranquility of Suburban Meadows ...   \n",
       "8  Experience luxury living in the heart of the c...   \n",
       "9  Live in luxury in this exclusive 5-bedroom, 4-...   \n",
       "\n",
       "                            neighborhood_description  \n",
       "0  Green Oaks is a close-knit, environmentally-co...  \n",
       "1  Sunnyvale is known for its top-rated schools, ...  \n",
       "2  The Downtown Loft District is a vibrant and ec...  \n",
       "3  Lakefront Estates is an exclusive waterfront c...  \n",
       "4  Mountain View is known for its picturesque lan...  \n",
       "5  Historic Old Town is a vibrant and historic ne...  \n",
       "6  Waterfront Condos offer a luxurious waterfront...  \n",
       "7  Suburban Meadows is a family-friendly neighbor...  \n",
       "8  Downtown Highrise offers a vibrant urban livin...  \n",
       "9  The Gated Community offers a secure and privat...  "
      ]
     },
     "execution_count": 12,
     "metadata": {},
     "output_type": "execute_result"
    }
   ],
   "source": [
    "# create a dataframe from the response\n",
    "result = parser.parse(response)\n",
    "df = pd.DataFrame(jsonable_encoder(result.listings))\n",
    "df.head()\n",
    "df"
   ]
  },
  {
   "cell_type": "code",
   "execution_count": 13,
   "id": "9aa98854",
   "metadata": {},
   "outputs": [],
   "source": [
    "# save the dataframe to a csv file\n",
    "df.to_csv('listings.csv', index_label = 'id')"
   ]
  },
  {
   "cell_type": "markdown",
   "id": "42f26456",
   "metadata": {},
   "source": [
    "# Step 3: Storing Listings in a Vector Database\n",
    "\n",
    "- Vector Database Setup: Initialize and configure ChromaDB database to store real estate listings.\n",
    "\n",
    "\n",
    "\n",
    "- Generating and Storing Embeddings: Convert the LLM-generated listings into suitable embeddings that capture the semantic content of each listing, and store these embeddings in the vector database.\n"
   ]
  },
  {
   "cell_type": "code",
   "execution_count": 14,
   "id": "f9b63fc6",
   "metadata": {},
   "outputs": [
    {
     "name": "stdout",
     "output_type": "stream",
     "text": [
      "Split 10 documents into 21 chunks.\n",
      "windows, allowing natural light to fill the space. The gourmet kitchen is a chef's dream, with high-end appliances and granite countertops. Relax in the private backyard oasis with a hot tub and outdoor dining area. Experience the beauty of Mountain View living in this peaceful retreat.\n",
      "{'id': '4', 'start_index': 202}\n",
      "Saved 21 chunks to chroma.\n"
     ]
    }
   ],
   "source": [
    "# Initialize and configure ChromaDB or a similar vector database to store real estate listings\n",
    "CHROMA_PATH = \"chroma\"\n",
    "CSV_PATH = \"listings.csv\" \n",
    "\n",
    "embedding_function = OpenAIEmbeddings()\n",
    "\n",
    "df = pd.read_csv(CSV_PATH)\n",
    "documents = []\n",
    "for index, row in df.iterrows():\n",
    "    documents.append(Document(page_content=row['description'], metadata={'id': str(index)}))\n",
    "\n",
    "\n",
    "# Split Text\n",
    "text_splitter = RecursiveCharacterTextSplitter(\n",
    "    chunk_size=300,\n",
    "    chunk_overlap=100,\n",
    "    length_function=len,\n",
    "    add_start_index=True,\n",
    ")\n",
    "chunks = text_splitter.split_documents(documents)\n",
    "print(f\"Split {len(documents)} documents into {len(chunks)} chunks.\")\n",
    "\n",
    "if chunks:\n",
    "    document = chunks[10]\n",
    "    print(document.page_content)\n",
    "    print(document.metadata)\n",
    "\n",
    "# Save to Chroma\n",
    "if os.path.exists(CHROMA_PATH):\n",
    "    shutil.rmtree(CHROMA_PATH)\n",
    "\n",
    "db = Chroma.from_documents(\n",
    "    chunks, OpenAIEmbeddings(), persist_directory=CHROMA_PATH\n",
    ")\n",
    "db.persist()\n",
    "print(f\"Saved {len(chunks)} chunks to {CHROMA_PATH}.\")"
   ]
  },
  {
   "cell_type": "markdown",
   "id": "900da5fc",
   "metadata": {},
   "source": [
    "# Step 4: Building the User Preference Interface\n",
    "\n",
    "- Collect buyer preferences, such as the number of bedrooms, bathrooms, location, and other specific requirements from a set of questions or telling the buyer to enter their preferences in natural language. \n",
    "Example:\n",
    "\n",
    "```python\n",
    "questions = [   \n",
    "                \"How big do you want your house to be?\" \n",
    "                \"What are 3 most important things for you in choosing this property?\", \n",
    "                \"Which amenities would you like?\", \n",
    "                \"Which transportation options are important to you?\",\n",
    "                \"How urban do you want your neighborhood to be?\",   \n",
    "            ]\n",
    "answers = [\n",
    "    \"A comfortable three-bedroom house with a spacious kitchen and a cozy living room.\",\n",
    "    \"A quiet neighborhood, good local schools, and convenient shopping options.\",\n",
    "    \"A backyard for gardening, a two-car garage, and a modern, energy-efficient heating system.\",\n",
    "    \"Easy access to a reliable bus line, proximity to a major highway, and bike-friendly roads.\",\n",
    "    \"A balance between suburban tranquility and access to urban amenities like restaurants and theaters.\"\n",
    "]\n",
    "```\n",
    "\n",
    "    \n",
    "- Buyer Preference Parsing: Implement logic to interpret and structure these preferences for querying the vector database.\n"
   ]
  },
  {
   "cell_type": "code",
   "execution_count": 15,
   "id": "07951648",
   "metadata": {},
   "outputs": [],
   "source": [
    "PROMPT_TEMPLATE =\\\n",
    "\"\"\"\n",
    "Based on the following context:\n",
    "\n",
    "{context}\n",
    "\n",
    "---\n",
    "\n",
    "Answer the question : {question}\n",
    "\"\"\""
   ]
  },
  {
   "cell_type": "code",
   "execution_count": 16,
   "id": "a3a9e672",
   "metadata": {},
   "outputs": [],
   "source": [
    "query_text_1 = \"A house close to hell\" "
   ]
  },
  {
   "cell_type": "code",
   "execution_count": 17,
   "id": "5dd2dc87",
   "metadata": {},
   "outputs": [],
   "source": [
    "query_text_2 = \"A house close to the beach\" "
   ]
  },
  {
   "cell_type": "markdown",
   "id": "fe2d444e",
   "metadata": {},
   "source": [
    "# Step 5: Searching Based on Preferences\n",
    "\n",
    "- Semantic Search Implementation: Use the structured buyer preferences to perform a semantic search on the vector database, retrieving listings that most closely match the user's requirements.\n",
    "- Listing Retrieval Logic: Fine-tune the retrieval algorithm to ensure that the most relevant listings are selected based on the semantic closeness to the buyer’s preferences."
   ]
  },
  {
   "cell_type": "code",
   "execution_count": 18,
   "id": "b529c4c4",
   "metadata": {},
   "outputs": [],
   "source": [
    "def predict_response(query_text, PROMPT_TEMPLATE):\n",
    "    embedding_function = OpenAIEmbeddings()\n",
    "    db = Chroma(persist_directory=CHROMA_PATH, embedding_function=embedding_function)\n",
    "\n",
    "    # Search the DB.\n",
    "    results = db.similarity_search_with_relevance_scores(query_text, k=3)\n",
    "    if len(results) == 0 or results[0][1] < 0.7:\n",
    "        print(f\"Unable to find matching results.\")\n",
    "    else:\n",
    "        context_text = \"\\n\\n---\\n\\n\".join([doc.page_content for doc, _score in results])\n",
    "        prompt_template = ChatPromptTemplate.from_template(PROMPT_TEMPLATE)\n",
    "        prompt = prompt_template.format(context=context_text, question=query_text)\n",
    "        print(f\"Generated Prompt:\\n{prompt}\")\n",
    "        \n",
    "        model = ChatOpenAI()\n",
    "        response_text = model.predict(prompt)\n",
    "        sources = [doc.metadata.get(\"id\", None) for doc, _score in results]\n",
    "        formatted_response = f\"Response: {response_text}\\nSources: {sources}\"\n",
    "        print(formatted_response)"
   ]
  },
  {
   "cell_type": "code",
   "execution_count": 19,
   "id": "0817a835",
   "metadata": {},
   "outputs": [
    {
     "name": "stdout",
     "output_type": "stream",
     "text": [
      "Unable to find matching results.\n"
     ]
    }
   ],
   "source": [
    "predict_response(query_text_1, PROMPT_TEMPLATE)\n"
   ]
  },
  {
   "cell_type": "code",
   "execution_count": 20,
   "id": "a818abbc",
   "metadata": {},
   "outputs": [
    {
     "name": "stdout",
     "output_type": "stream",
     "text": [
      "Generated Prompt:\n",
      "Human: \n",
      "Based on the following context:\n",
      "\n",
      "Live the waterfront lifestyle in these luxurious 2-bedroom, 2-bathroom condos. Each unit features floor-to-ceiling windows, modern finishes, and a private balcony with stunning water views. The gourmet kitchen is perfect for entertaining, with high-end appliances and a spacious island. Enjoy\n",
      "\n",
      "---\n",
      "\n",
      "Live the lakefront lifestyle in this stunning 5-bedroom, 4-bathroom estate. This custom-built home features panoramic views of the lake, a gourmet kitchen with top-of-the-line appliances, and a luxurious master suite with a spa-like bathroom. The outdoor living space is perfect for entertaining,\n",
      "\n",
      "---\n",
      "\n",
      "master suite with a spa-like bathroom. The outdoor living space is perfect for entertaining, with a covered patio, infinity pool, and private dock. Experience luxury living at its finest in Lakefront Estates.\n",
      "\n",
      "---\n",
      "\n",
      "Answer the question : A house close to the beach\n",
      "\n",
      "Response: The house close to the beach is a stunning 5-bedroom, 4-bathroom estate with panoramic views of the lake. It features a gourmet kitchen with top-of-the-line appliances, a luxurious master suite with a spa-like bathroom, and an outdoor living space perfect for entertaining, including a covered patio, infinity pool, and private dock. Experience luxury living at its finest in Lakefront Estates.\n",
      "Sources: ['6', '3', '3']\n"
     ]
    }
   ],
   "source": [
    "predict_response(query_text_2, PROMPT_TEMPLATE)\n"
   ]
  },
  {
   "cell_type": "markdown",
   "id": "dbf10d30",
   "metadata": {},
   "source": [
    "# Step 6: Personalizing Listing Descriptions\n",
    "\n",
    "- LLM Augmentation: For each retrieved listing, use the LLM to augment the description, tailoring it to resonate with the buyer’s specific preferences. This involves subtly emphasizing aspects of the property that align with what the buyer is looking for.\n",
    "- Maintaining Factual Integrity: Ensure that the augmentation process enhances the appeal of the listing without altering factual information."
   ]
  },
  {
   "cell_type": "code",
   "execution_count": 21,
   "id": "efc705e2",
   "metadata": {},
   "outputs": [],
   "source": [
    "AUGMENT_PROMPT_TEMPLATE =\\\n",
    "\"\"\"\n",
    "Based on the following context:\n",
    "\n",
    "{context}\n",
    "\n",
    "---\n",
    "\n",
    "craft a response that not only answers the question {question}, but also ensures that your explanation is distinct, captivating, and customized to align with the specified preferences. This involves subtly emphasizing aspects of the property that align with what the buyer is looking for.\n",
    "\"\"\""
   ]
  },
  {
   "cell_type": "code",
   "execution_count": 22,
   "id": "c40eef41",
   "metadata": {},
   "outputs": [
    {
     "name": "stdout",
     "output_type": "stream",
     "text": [
      "Unable to find matching results.\n"
     ]
    }
   ],
   "source": [
    "predict_response(query_text_1, AUGMENT_PROMPT_TEMPLATE)"
   ]
  },
  {
   "cell_type": "code",
   "execution_count": 23,
   "id": "60366288",
   "metadata": {},
   "outputs": [
    {
     "name": "stdout",
     "output_type": "stream",
     "text": [
      "Generated Prompt:\n",
      "Human: \n",
      "Based on the following context:\n",
      "\n",
      "Live the waterfront lifestyle in these luxurious 2-bedroom, 2-bathroom condos. Each unit features floor-to-ceiling windows, modern finishes, and a private balcony with stunning water views. The gourmet kitchen is perfect for entertaining, with high-end appliances and a spacious island. Enjoy\n",
      "\n",
      "---\n",
      "\n",
      "Live the lakefront lifestyle in this stunning 5-bedroom, 4-bathroom estate. This custom-built home features panoramic views of the lake, a gourmet kitchen with top-of-the-line appliances, and a luxurious master suite with a spa-like bathroom. The outdoor living space is perfect for entertaining,\n",
      "\n",
      "---\n",
      "\n",
      "master suite with a spa-like bathroom. The outdoor living space is perfect for entertaining, with a covered patio, infinity pool, and private dock. Experience luxury living at its finest in Lakefront Estates.\n",
      "\n",
      "---\n",
      "\n",
      "craft a response that not only answers the question A house close to the beach, but also ensures that your explanation is distinct, captivating, and customized to align with the specified preferences. This involves subtly emphasizing aspects of the property that align with what the buyer is looking for.\n",
      "\n",
      "Response: Based on your preference for a house close to the beach, I have the perfect property in mind for you. Imagine waking up to breathtaking waterfront views every morning in a luxurious 2-bedroom, 2-bathroom condo with floor-to-ceiling windows and a private balcony overlooking the serene waters. The gourmet kitchen with high-end appliances and spacious island is ideal for entertaining guests, while the modern finishes add a touch of elegance to the space. Additionally, the outdoor living space offers a covered patio, infinity pool, and private dock, providing the ultimate beachfront experience. This property truly embodies the beachfront lifestyle you desire, offering luxury living at its finest.\n",
      "Sources: ['6', '3', '3']\n"
     ]
    }
   ],
   "source": [
    "predict_response(query_text_2, AUGMENT_PROMPT_TEMPLATE)"
   ]
  },
  {
   "cell_type": "markdown",
   "id": "cd0acba6",
   "metadata": {},
   "source": [
    "\n",
    "# Step 7: Tests performed\n",
    "\n",
    "- As seen above, two tests were performed with different user prompts, a realistic one (A house close to the beach), and another to force a non-matching (A house close to hell)\n",
    "- The results were satisfactory, as a house close to the beach was recommended, and furtunately, there is no house close to the hell..yet.\n"
   ]
  }
 ],
 "metadata": {
  "kernelspec": {
   "display_name": "Python 3 (ipykernel)",
   "language": "python",
   "name": "python3"
  },
  "language_info": {
   "codemirror_mode": {
    "name": "ipython",
    "version": 3
   },
   "file_extension": ".py",
   "mimetype": "text/x-python",
   "name": "python",
   "nbconvert_exporter": "python",
   "pygments_lexer": "ipython3",
   "version": "3.10.11"
  }
 },
 "nbformat": 4,
 "nbformat_minor": 5
}
